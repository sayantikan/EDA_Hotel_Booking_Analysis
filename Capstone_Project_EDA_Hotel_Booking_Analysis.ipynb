{
  "nbformat": 4,
  "nbformat_minor": 0,
  "metadata": {
    "colab": {
      "private_outputs": true,
      "provenance": [],
      "collapsed_sections": [
        "gIfDvo9L0UH2"
      ],
      "include_colab_link": true
    },
    "kernelspec": {
      "name": "python3",
      "display_name": "Python 3"
    },
    "language_info": {
      "name": "python"
    }
  },
  "cells": [
    {
      "cell_type": "markdown",
      "metadata": {
        "id": "view-in-github",
        "colab_type": "text"
      },
      "source": [
        "<a href=\"https://colab.research.google.com/github/sayantikan/EDA_Hotel_Booking_Analysis/blob/main/Capstone_Project_EDA_Hotel_Booking_Analysis.ipynb\" target=\"_parent\"><img src=\"https://colab.research.google.com/assets/colab-badge.svg\" alt=\"Open In Colab\"/></a>"
      ]
    },
    {
      "cell_type": "markdown",
      "source": [
        "# **Project Name**    - EDA_Hotel Booking Analysis\n",
        "\n"
      ],
      "metadata": {
        "id": "vncDsAP0Gaoa"
      }
    },
    {
      "cell_type": "markdown",
      "source": [
        "##### **Project Type**    - EDA\n",
        "##### **Contribution**    - Individual\n",
        "##### **Team Member 1 -** Sayantika Nandy\n",
        "##### **Team Member 2 -** None\n",
        "##### **Team Member 3 -** None\n",
        "##### **Team Member 4 -** None"
      ],
      "metadata": {
        "id": "beRrZCGUAJYm"
      }
    },
    {
      "cell_type": "markdown",
      "source": [
        "# **Project Summary -**"
      ],
      "metadata": {
        "id": "FJNUwmbgGyua"
      }
    },
    {
      "cell_type": "markdown",
      "source": [
        "Write the summary here within 500-600 words."
      ],
      "metadata": {
        "id": "F6v_1wHtG2nS"
      }
    },
    {
      "cell_type": "markdown",
      "source": [
        "# **GitHub Link -**"
      ],
      "metadata": {
        "id": "w6K7xa23Elo4"
      }
    },
    {
      "cell_type": "markdown",
      "source": [
        "https://github.com/sayantikan/EDA_Hotel_Booking_Analysis"
      ],
      "metadata": {
        "id": "h1o69JH3Eqqn"
      }
    },
    {
      "cell_type": "markdown",
      "source": [
        "# **Problem Statement**\n"
      ],
      "metadata": {
        "id": "yQaldy8SH6Dl"
      }
    },
    {
      "cell_type": "markdown",
      "source": [
        "**Write Problem Statement Here.**"
      ],
      "metadata": {
        "id": "DpeJGUA3kjGy"
      }
    },
    {
      "cell_type": "markdown",
      "source": [
        "#### **Define Your Business Objective?**"
      ],
      "metadata": {
        "id": "PH-0ReGfmX4f"
      }
    },
    {
      "cell_type": "markdown",
      "source": [
        "Answer Here."
      ],
      "metadata": {
        "id": "PhDvGCAqmjP1"
      }
    },
    {
      "cell_type": "markdown",
      "source": [
        "# **General Guidelines** : -  "
      ],
      "metadata": {
        "id": "mDgbUHAGgjLW"
      }
    },
    {
      "cell_type": "markdown",
      "source": [
        "1.   Well-structured, formatted, and commented code is required.\n",
        "2.   Exception Handling, Production Grade Code & Deployment Ready Code will be a plus. Those students will be awarded some additional credits.\n",
        "     \n",
        "     The additional credits will have advantages over other students during Star Student selection.\n",
        "       \n",
        "             [ Note: - Deployment Ready Code is defined as, the whole .ipynb notebook should be executable in one go\n",
        "                       without a single error logged. ]\n",
        "\n",
        "3.   Each and every logic should have proper comments.\n",
        "4. You may add as many number of charts you want. Make Sure for each and every chart the following format should be answered.\n",
        "        \n",
        "\n",
        "```\n",
        "# Chart visualization code\n",
        "```\n",
        "            \n",
        "\n",
        "*   Why did you pick the specific chart?\n",
        "*   What is/are the insight(s) found from the chart?\n",
        "* Will the gained insights help creating a positive business impact?\n",
        "Are there any insights that lead to negative growth? Justify with specific reason.\n",
        "\n",
        "5. You have to create at least 20 logical & meaningful charts having important insights.\n",
        "\n",
        "\n",
        "[ Hints : - Do the Vizualization in  a structured way while following \"UBM\" Rule.\n",
        "\n",
        "U - Univariate Analysis,\n",
        "\n",
        "B - Bivariate Analysis (Numerical - Categorical, Numerical - Numerical, Categorical - Categorical)\n",
        "\n",
        "M - Multivariate Analysis\n",
        " ]\n",
        "\n",
        "\n",
        "\n"
      ],
      "metadata": {
        "id": "ZrxVaUj-hHfC"
      }
    },
    {
      "cell_type": "markdown",
      "source": [
        "# ***Let's Begin !***"
      ],
      "metadata": {
        "id": "O_i_v8NEhb9l"
      }
    },
    {
      "cell_type": "markdown",
      "source": [
        "## ***1. Know Your Data***"
      ],
      "metadata": {
        "id": "HhfV-JJviCcP"
      }
    },
    {
      "cell_type": "markdown",
      "source": [
        "### Import Libraries"
      ],
      "metadata": {
        "id": "Y3lxredqlCYt"
      }
    },
    {
      "cell_type": "code",
      "source": [
        "# Import Libraries\n",
        "import numpy as np\n",
        "import pandas as pd\n",
        "\n",
        "# Importing Data Visualisation Libraries\n",
        "import matplotlib.pyplot as plt\n",
        "import seaborn as sns\n",
        "\n",
        "%matplotlib inline\n",
        "\n",
        "pd.set_option('display.max_rows', None)\n",
        "pd.set_option('display.max_columns', 100)"
      ],
      "metadata": {
        "id": "M8Vqi-pPk-HR"
      },
      "execution_count": null,
      "outputs": []
    },
    {
      "cell_type": "markdown",
      "source": [
        "### Dataset Loading"
      ],
      "metadata": {
        "id": "3RnN4peoiCZX"
      }
    },
    {
      "cell_type": "code",
      "source": [
        "from google.colab import drive\n",
        "drive.mount('/content/drive')"
      ],
      "metadata": {
        "id": "q-ywE-IR86Xy"
      },
      "execution_count": null,
      "outputs": []
    },
    {
      "cell_type": "code",
      "source": [
        "# Load Dataset\n",
        "path = '/content/drive/MyDrive/Projects/EDA/Data/Hotel Bookings.csv'\n",
        "raw_booking = pd.read_csv(path)"
      ],
      "metadata": {
        "id": "4CkvbW_SlZ_R"
      },
      "execution_count": null,
      "outputs": []
    },
    {
      "cell_type": "markdown",
      "source": [
        "### Dataset First View"
      ],
      "metadata": {
        "id": "x71ZqKXriCWQ"
      }
    },
    {
      "cell_type": "code",
      "source": [
        "# Dataset First Look\n",
        "raw_booking.head()"
      ],
      "metadata": {
        "id": "LWNFOSvLl09H"
      },
      "execution_count": null,
      "outputs": []
    },
    {
      "cell_type": "markdown",
      "source": [
        "### Dataset Rows & Columns count"
      ],
      "metadata": {
        "id": "7hBIi_osiCS2"
      }
    },
    {
      "cell_type": "code",
      "source": [
        "# Dataset Rows & Columns count\n",
        "print('Number of rows:', raw_booking.shape[0])\n",
        "print('Number of columns:', raw_booking.shape[1])"
      ],
      "metadata": {
        "id": "Kllu7SJgmLij"
      },
      "execution_count": null,
      "outputs": []
    },
    {
      "cell_type": "markdown",
      "source": [
        "### Dataset Information"
      ],
      "metadata": {
        "id": "JlHwYmJAmNHm"
      }
    },
    {
      "cell_type": "code",
      "source": [
        "# Dataset Info\n",
        "raw_booking.info()"
      ],
      "metadata": {
        "id": "e9hRXRi6meOf"
      },
      "execution_count": null,
      "outputs": []
    },
    {
      "cell_type": "markdown",
      "source": [
        "From the above output, we understand that there are more than 100k records and 32 columns in the dataset. We have both numerical(int, float) and categorical(object) features.\n",
        "\n",
        "Also from the non-null numbers we can understand that there are some missing values in the dataset."
      ],
      "metadata": {
        "id": "99Tm5-qtBjkT"
      }
    },
    {
      "cell_type": "markdown",
      "source": [
        "#### Duplicate Values"
      ],
      "metadata": {
        "id": "35m5QtbWiB9F"
      }
    },
    {
      "cell_type": "code",
      "source": [
        "# Dataset Duplicate Value Count\n",
        "duplicate_count = raw_booking.duplicated().sum()\n",
        "print('Number of duplicate records count:',duplicate_count)"
      ],
      "metadata": {
        "id": "1sLdpKYkmox0"
      },
      "execution_count": null,
      "outputs": []
    },
    {
      "cell_type": "code",
      "source": [
        "# Dropping duplicate records\n",
        "booking_nodups = raw_booking.copy()     # making a copy of original data\n",
        "\n",
        "booking_nodups.drop_duplicates(inplace = True)\n",
        "print('Number of records retained after removing duplicates:', booking_nodups.shape[0])"
      ],
      "metadata": {
        "id": "0B6gFMJxGhED"
      },
      "execution_count": null,
      "outputs": []
    },
    {
      "cell_type": "markdown",
      "source": [
        "#### Missing Values/Null Values"
      ],
      "metadata": {
        "id": "PoPl-ycgm1ru"
      }
    },
    {
      "cell_type": "code",
      "source": [
        "# Missing Values/Null Values Count\n",
        "missing = 100*(booking_nodups.isnull().sum() / len(booking_nodups.index))\n",
        "missing[missing > 0]"
      ],
      "metadata": {
        "id": "GgHWkxvamxVg"
      },
      "execution_count": null,
      "outputs": []
    },
    {
      "cell_type": "code",
      "source": [
        "# Creating the list of significant columns which have null values\n",
        "missing_cols = missing[missing > 0].index.to_list()\n",
        "'''\n",
        "As the column 'company' has 94% of values missing, we can drop this column\n",
        "as it will not be considered as a significant column for the analysis.\n",
        "'''\n",
        "missing_cols.remove('company')\n",
        "missing_cols"
      ],
      "metadata": {
        "id": "89JbIR3-8zIK"
      },
      "execution_count": null,
      "outputs": []
    },
    {
      "cell_type": "code",
      "source": [
        "# Visualizing the missing values\n",
        "# Creating a bar plot\n",
        "plt.bar(missing.index, missing)\n",
        "plt.xlabel('Column Names')\n",
        "plt.xticks(rotation='vertical')\n",
        "plt.ylabel('Percentage Missing')\n",
        "plt.title('Visualization of Missing Values')\n",
        "plt.show()"
      ],
      "metadata": {
        "id": "3q5wnI3om9sJ"
      },
      "execution_count": null,
      "outputs": []
    },
    {
      "cell_type": "markdown",
      "source": [
        "### What did you know about your dataset?"
      ],
      "metadata": {
        "id": "H0kj-8xxnORC"
      }
    },
    {
      "cell_type": "markdown",
      "source": [
        "There are almost 120k records and 32 columns in the original dataset. We have both numerical(int, float) and categorical(object) features.\n",
        "\n",
        "There are 31994 numbers of duplicate values in the main dataset. After removing the duplicate values, number of records retained is 87396. The columns named 'children', 'country', 'agent', 'company' have missing values  0.005%, 0.52%, 13.95% and 94% respectively.\n",
        "\n",
        "As the column 'company' has 94% of values missing, we can drop this column as it will not be considered as a significant column for the analysis.\n",
        "\n",
        "Since rest of the three columns where there are null-values, the null-value percentage is considerably less. Hence we can impute the missing values with proper techniques."
      ],
      "metadata": {
        "id": "gfoNAAC-nUe_"
      }
    },
    {
      "cell_type": "markdown",
      "source": [
        "## ***2. Understanding Your Variables***"
      ],
      "metadata": {
        "id": "nA9Y7ga8ng1Z"
      }
    },
    {
      "cell_type": "code",
      "source": [
        "# Dataset Columns\n",
        "cols = booking_nodups.columns.to_list()\n",
        "cols"
      ],
      "metadata": {
        "id": "j7xfkqrt5Ag5"
      },
      "execution_count": null,
      "outputs": []
    },
    {
      "cell_type": "code",
      "source": [
        "# Dataset Describe\n",
        "booking_nodups.describe()"
      ],
      "metadata": {
        "id": "DnOaZdaE5Q5t"
      },
      "execution_count": null,
      "outputs": []
    },
    {
      "cell_type": "markdown",
      "source": [
        "### Variables Description"
      ],
      "metadata": {
        "id": "PBTbrJXOngz2"
      }
    },
    {
      "cell_type": "markdown",
      "source": [
        "By looking at the statistical description of the numerical columns, some columns might be categorical having numerical values. Those\n",
        "columns are:  \n",
        "*   arrival_date_year\n",
        "*   arrival_date_day_of_month\n",
        "*   adults\n",
        "*   children\n",
        "*   babies\n",
        "*   is_repeated_guest\n",
        "*   previous_cancellations\n",
        "*   previous_bookings_not_canceled\n",
        "*   booking_changes\n",
        "*   days_in_waiting_list\n",
        "*   required_car_parking_spaces\n",
        "*   total_of_special_requests\n",
        "\n",
        "We can consider the column **is_canceled** as the target column."
      ],
      "metadata": {
        "id": "aJV4KIxSnxay"
      }
    },
    {
      "cell_type": "markdown",
      "source": [
        "### Check Unique Values for each variable."
      ],
      "metadata": {
        "id": "u3PMJOP6ngxN"
      }
    },
    {
      "cell_type": "code",
      "source": [
        "# Check Unique Values for each variable.\n",
        "cat_cols = booking_nodups.select_dtypes(include=['object']).columns.tolist()\n",
        "cat_cols = cat_cols + ['is_canceled','arrival_date_year','arrival_date_day_of_month','adults','children','babies','is_repeated_guest','previous_cancellations','previous_bookings_not_canceled','booking_changes','days_in_waiting_list','required_car_parking_spaces','total_of_special_requests']\n",
        "#Checking total number of categorical columns in a list\n",
        "cat_cols"
      ],
      "metadata": {
        "id": "zms12Yq5n-jE"
      },
      "execution_count": null,
      "outputs": []
    },
    {
      "cell_type": "code",
      "source": [
        "# checking the number of unique values for each of the categorical columns\n",
        "booking_nodups[cat_cols].nunique()"
      ],
      "metadata": {
        "id": "KojTGnIStnxT"
      },
      "execution_count": null,
      "outputs": []
    },
    {
      "cell_type": "markdown",
      "source": [
        "## 3. ***Data Wrangling***"
      ],
      "metadata": {
        "id": "dauF4eBmngu3"
      }
    },
    {
      "cell_type": "markdown",
      "source": [
        "### Data Wrangling Code"
      ],
      "metadata": {
        "id": "bKJF3rekwFvQ"
      }
    },
    {
      "cell_type": "code",
      "source": [
        "# Write your code to make your dataset analysis ready."
      ],
      "metadata": {
        "id": "wk-9a2fpoLcV"
      },
      "execution_count": null,
      "outputs": []
    },
    {
      "cell_type": "markdown",
      "source": [
        "**Missing Value Treatment**"
      ],
      "metadata": {
        "id": "4iiylSoNpdqC"
      }
    },
    {
      "cell_type": "code",
      "source": [
        "# Dropping the column 'company'\n",
        "booking_nodups.drop('company', axis=1, inplace = True)\n",
        "booking_nodups.shape"
      ],
      "metadata": {
        "id": "tffPfGplp5Cm"
      },
      "execution_count": null,
      "outputs": []
    },
    {
      "cell_type": "code",
      "source": [
        "# Checking the datatype of the columns which have null values\n",
        "booking_nodups[missing_cols].info()"
      ],
      "metadata": {
        "id": "wbQ7AYoR9dnL"
      },
      "execution_count": null,
      "outputs": []
    },
    {
      "cell_type": "code",
      "source": [
        " # Checking the statistical description of the numerical columns which have null values\n",
        "booking_nodups[missing_cols].describe()"
      ],
      "metadata": {
        "id": "Y3bcjvJ09uq4"
      },
      "execution_count": null,
      "outputs": []
    },
    {
      "cell_type": "code",
      "source": [
        "# Filling the null values with mean, mode and median whichever is applicable for each column\n",
        "'''\n",
        "As the column 'country' is categorical type, we should fill the null values with mode value of the entire column.\n",
        "'''\n",
        "booking_nodups['country'].fillna(booking_nodups['country'].mode()[0], inplace = True)\n",
        "\n",
        "'''\n",
        "The column 'children' having numerical values, if the null values are filled with mean or median,\n",
        "it could take decimal values for number of children which is not possible. Hence we treat this column as a categorical one\n",
        "and will fill the missing values using mode.\n",
        "'''\n",
        "booking_nodups['children'].fillna(booking_nodups['children'].mode()[0], inplace = True)\n",
        "\n",
        "'''\n",
        "The column 'agent' having numerical values with a significant difference in mean and median.\n",
        "This means that there are some outliers in the column and hence the null values are filled with median.\n",
        "'''\n",
        "booking_nodups['agent'].fillna(booking_nodups['agent'].median(), inplace = True)"
      ],
      "metadata": {
        "id": "oYuBQeqfq-48"
      },
      "execution_count": null,
      "outputs": []
    },
    {
      "cell_type": "code",
      "source": [
        "booking_nodups[missing_cols].info()"
      ],
      "metadata": {
        "id": "joajNJm5fA0q"
      },
      "execution_count": null,
      "outputs": []
    },
    {
      "cell_type": "markdown",
      "source": [
        "All the missing values have been imputed."
      ],
      "metadata": {
        "id": "5J9RYHjaiWkY"
      }
    },
    {
      "cell_type": "markdown",
      "source": [
        "**Outlier Treatment**"
      ],
      "metadata": {
        "id": "HUtFbvqmjkdm"
      }
    },
    {
      "cell_type": "code",
      "source": [
        "# Making the list of numerical columns\n",
        "num_cols = []\n",
        "for col in cols:\n",
        "  if col in cat_cols:\n",
        "    continue\n",
        "  elif col == 'company':\n",
        "    continue\n",
        "  else:\n",
        "    num_cols.append(col)\n",
        "\n",
        "num_cols"
      ],
      "metadata": {
        "id": "CbwWKCRYkPWV"
      },
      "execution_count": null,
      "outputs": []
    },
    {
      "cell_type": "code",
      "source": [
        "# Defining a function for capping the outliers\n",
        "def cap_outlier(data, cols):\n",
        "  for col in cols:\n",
        "    Q1 = data[col].quantile(0.25)\n",
        "    Q3 = data[col].quantile(0.75)\n",
        "    IQR = Q3 - Q1\n",
        "    upper_cap = Q3 + (1.5 * IQR)\n",
        "    lower_cap = Q1 - (1.5 * IQR)\n",
        "\n",
        "    data[col] = data[col].apply(lambda x : min(upper_cap, max(lower_cap, x)))\n",
        "\n",
        "  return data"
      ],
      "metadata": {
        "id": "pZOCJ-NnrD__"
      },
      "execution_count": null,
      "outputs": []
    },
    {
      "cell_type": "code",
      "source": [
        "#Creating a boxplot to visualize outliers\n",
        "plt.figure(figsize=(12,12))\n",
        "for col in num_cols:\n",
        "  plt.subplot(3,3,(num_cols.index(col)+1))\n",
        "  sns.boxplot(data=booking_nodups, y=col)\n",
        "\n",
        "plt.show()"
      ],
      "metadata": {
        "id": "4KpsZrxRt1mQ"
      },
      "execution_count": null,
      "outputs": []
    },
    {
      "cell_type": "code",
      "source": [
        "# Now calling the predefined function to cap the outliers\n",
        "booking_clean = cap_outlier(booking_nodups, num_cols)"
      ],
      "metadata": {
        "id": "yGSRa7Tju-Rh"
      },
      "execution_count": null,
      "outputs": []
    },
    {
      "cell_type": "code",
      "source": [
        "# Creating a boxplot to visualize wheather the outliers have been properly capped or not\n",
        "plt.figure(figsize=(12,12))\n",
        "for col in num_cols:\n",
        "  plt.subplot(3,3,(num_cols.index(col)+1))\n",
        "  sns.boxplot(data=booking_clean, y=col)\n",
        "\n",
        "plt.show()"
      ],
      "metadata": {
        "id": "uzXU7pVDw5J4"
      },
      "execution_count": null,
      "outputs": []
    },
    {
      "cell_type": "markdown",
      "source": [
        "The outliers have been properly capped."
      ],
      "metadata": {
        "id": "Dvd4nqwoQIsx"
      }
    },
    {
      "cell_type": "markdown",
      "source": [
        "Creating new features out of some of existing columns. These new features might be significant for our analysis"
      ],
      "metadata": {
        "id": "FeyhWg2qKJ04"
      }
    },
    {
      "cell_type": "code",
      "source": [
        "# Looking the cleaned dataset\n",
        "booking_clean.head()"
      ],
      "metadata": {
        "id": "iBEFUGE8RG5d"
      },
      "execution_count": null,
      "outputs": []
    },
    {
      "cell_type": "code",
      "source": [
        "# Defining a function to return Quarters based on months\n",
        "def func_1(data):\n",
        "    if data['arrival_date_month'] in ['January', 'February', 'March']:\n",
        "        return 'Quarter_1'\n",
        "    elif data['arrival_date_month'] in ['April', 'May', 'June']:\n",
        "        return 'Quarter_2'\n",
        "    elif data['arrival_date_month'] in ['July', 'August', 'September']:\n",
        "        return 'Quarter_3'\n",
        "    else:\n",
        "        return 'Quarter_4'\n",
        "\n",
        "# Calling the custom function to create a new feature 'Quarter'\n",
        "booking_clean['Quarters'] = booking_clean.apply(func_1, axis=1)"
      ],
      "metadata": {
        "id": "LLxh1fDttSjC"
      },
      "execution_count": null,
      "outputs": []
    },
    {
      "cell_type": "code",
      "source": [
        "# Defining a function to divide the dates into three categories i.e. 'Start_of_month', 'Mid_of_month' and 'End_of_month'\n",
        "def func_2(data):\n",
        "  if data['arrival_date_day_of_month'] <= 10:\n",
        "    return 'Start_of_month'\n",
        "  elif data['arrival_date_day_of_month'] <= 20:\n",
        "    return 'Mid_of_month'\n",
        "  else:\n",
        "    return 'End_of_month'\n",
        "\n",
        "# Calling the custom function to create a new feature 'Time_of_month'\n",
        "booking_clean['Time_of_month'] = booking_clean.apply(func_2, axis=1)"
      ],
      "metadata": {
        "id": "nAy9gtMOEfn0"
      },
      "execution_count": null,
      "outputs": []
    },
    {
      "cell_type": "code",
      "source": [
        "# Inspecting wheather the new columns are created correctly or not\n",
        "booking_clean.sample(3)"
      ],
      "metadata": {
        "id": "miZRwE0a1G07"
      },
      "execution_count": null,
      "outputs": []
    },
    {
      "cell_type": "code",
      "source": [
        "# Converting the datatype of the column 'reservation_status_date' from object to datetime\n",
        "booking_clean['reservation_status_date'] = pd.to_datetime(booking_clean['reservation_status_date'])\n",
        "print(booking_clean['reservation_status_date'].dtypes)"
      ],
      "metadata": {
        "id": "eWlsDsrXOIcy"
      },
      "execution_count": null,
      "outputs": []
    },
    {
      "cell_type": "code",
      "source": [
        "# Converting the datatype of the column 'children' from float to integer\n",
        "booking_clean['children'] = booking_clean['children'].astype(int)"
      ],
      "metadata": {
        "id": "V39amPYMhP3z"
      },
      "execution_count": null,
      "outputs": []
    },
    {
      "cell_type": "markdown",
      "source": [
        "### What all manipulations have you done and insights you found?\n",
        "\n"
      ],
      "metadata": {
        "id": "MSa1f5Uengrz"
      }
    },
    {
      "cell_type": "markdown",
      "source": [
        "***Missing Value Treatment***\n",
        "\n",
        "As the column 'company' has 94% of values missing, we dropped this column as it will not be considered as a significant column for the analysis.\n",
        "\n",
        "As the column 'country' is categorical type, we filled the null values with mode value of the entire column.\n",
        "\n",
        "The column 'children' having numerical values, if the null values are filled with mean or median,\n",
        "it could take decimal values for number of children which is not possible. Hence we treat this column as a categorical one\n",
        "and filled the missing values using mode.\n",
        "\n",
        "The column 'agent' having numerical values with a significant difference in mean and median.\n",
        "This means that there are some outliers in the column and hence the null values are filled with median.\n",
        "\n",
        "***Outlier Treatment***\n",
        "\n",
        "By creating boxplot of the numerical columns, the outliers are visualized. Then we defined a custom function for capping the outliers and by calling the function the outliers capping have been properly done.\n",
        "\n",
        " ***New Column Creation***\n",
        "\n",
        " We've created two new columns from existing columns. The new columns are:\n",
        " -  'Quarters' - Created from months of the year ('arrival_date_month')\n",
        " -  'Time_of_month' - created from day (arrival_date_day_of_month)\n",
        "\n",
        "Quarters column is having 4 different categories such as\n",
        "-  Quarter_1\n",
        "-  Quarter_2\n",
        "-  Quarter_3\n",
        "-  Quarter_4\n",
        "\n",
        "Time_of_month column is having 3 categories such as\n",
        "-  Start_of_month\n",
        "-  Mid_of_month\n",
        "-  End_of_month\n",
        "\n",
        "Finally, we have type casted the column 'reservation_status_date' from object type to datetime type\n",
        "\n",
        "\n"
      ],
      "metadata": {
        "id": "LbyXE7I1olp8"
      }
    },
    {
      "cell_type": "markdown",
      "source": [
        "## ***4. Data Vizualization, Storytelling & Experimenting with charts : Understand the relationships between variables***"
      ],
      "metadata": {
        "id": "GF8Ens_Soomf"
      }
    },
    {
      "cell_type": "code",
      "source": [
        "# Storing the target column name in a variable\n",
        "target = 'is_canceled'\n",
        "\n",
        "# Creating a copy of the cleaned dataset\n",
        "booking = booking_clean.copy()"
      ],
      "metadata": {
        "id": "0IEiBdj30N0u"
      },
      "execution_count": null,
      "outputs": []
    },
    {
      "cell_type": "code",
      "source": [
        "num_cols"
      ],
      "metadata": {
        "id": "RX7VRvkfz4Kb"
      },
      "execution_count": null,
      "outputs": []
    },
    {
      "cell_type": "code",
      "source": [
        "cat_cols"
      ],
      "metadata": {
        "id": "sLoLbIjM57Ba"
      },
      "execution_count": null,
      "outputs": []
    },
    {
      "cell_type": "markdown",
      "source": [
        "#### Chart - 1"
      ],
      "metadata": {
        "id": "0wOQAZs5pc--"
      }
    },
    {
      "cell_type": "code",
      "source": [
        "# Chart - 1 visualization code\n",
        "plt.figure(figsize=(8,4))\n",
        "sns.histplot(data=booking, x='lead_time', kde=True, hue=target)\n",
        "plt.show()"
      ],
      "metadata": {
        "id": "7v_ESjsspbW7"
      },
      "execution_count": null,
      "outputs": []
    },
    {
      "cell_type": "markdown",
      "source": [
        "##### 1. Why did you pick the specific chart?"
      ],
      "metadata": {
        "id": "K5QZ13OEpz2H"
      }
    },
    {
      "cell_type": "markdown",
      "source": [
        "Since 'lead_time' is a numerical variable, it is important to know the distribution of the data for both the categories in target variable. To achieve this, histogram is the best suited plot we can create. We can use the 'hue' parameter and pass the target variable name i.e. 'is_cancelled' and we can get distributions for both categories separated by two different colors.\n"
      ],
      "metadata": {
        "id": "XESiWehPqBRc"
      }
    },
    {
      "cell_type": "markdown",
      "source": [
        "##### 2. What is/are the insight(s) found from the chart?"
      ],
      "metadata": {
        "id": "lQ7QKXXCp7Bj"
      }
    },
    {
      "cell_type": "markdown",
      "source": [
        "1.  From the above distribution plot for category '0' which indicates booking was not cancelled, we understand that for bookings with lesser lead_time there is less chances of the booking being cancelled. Also, from the very high bar, we can assume that these bookings might be emergency bookings and hence were not cancelled. As the lead_time increases, the frequency of bookings not cancelled gets reduced.\n",
        "\n",
        "2.  From the above distribution plot for category '1' which indicates booking was cancelled, we don't have much to infer from the data. However, we see a sudden spike near to 300 lead_time. This may indicate that these bookings were done to be on the safer side and were finally cancelled when the customer might have got another better option."
      ],
      "metadata": {
        "id": "C_j1G7yiqdRP"
      }
    },
    {
      "cell_type": "markdown",
      "source": [
        "##### 3. Will the gained insights help creating a positive business impact?\n",
        "Are there any insights that lead to negative growth? Justify with specific reason."
      ],
      "metadata": {
        "id": "448CDAPjqfQr"
      }
    },
    {
      "cell_type": "markdown",
      "source": [
        "As we can see that as the lead time increases, the frequency of bookings not cancelled gets reduced. To handle this trend, hotels can introduce a percentage discount for a particular lead time and as the lead time increases, the discount may increase. This way, since booking with a lead time is more economical, customer will not cancel to get the extra benefits."
      ],
      "metadata": {
        "id": "3cspy4FjqxJW"
      }
    },
    {
      "cell_type": "markdown",
      "source": [
        "#### Chart - 2"
      ],
      "metadata": {
        "id": "KSlN3yHqYklG"
      }
    },
    {
      "cell_type": "code",
      "source": [
        "# Chart - 2 visualization code\n",
        "plt.figure(figsize=(10,4))\n",
        "sns.histplot(x='stays_in_weekend_nights', data = booking)\n",
        "plt.show()"
      ],
      "metadata": {
        "id": "R4YgtaqtYklH"
      },
      "execution_count": null,
      "outputs": []
    },
    {
      "cell_type": "markdown",
      "source": [
        "##### 1. Why did you pick the specific chart?"
      ],
      "metadata": {
        "id": "t6dVpIINYklI"
      }
    },
    {
      "cell_type": "markdown",
      "source": [
        "We need to understand the trend of bookings when the frequency of booking is high and whether there is any pattern or not. Since there are only few discrete values, we can understand the frequency by using a hist-plot."
      ],
      "metadata": {
        "id": "5aaW0BYyYklI"
      }
    },
    {
      "cell_type": "markdown",
      "source": [
        "##### 2. What is/are the insight(s) found from the chart?"
      ],
      "metadata": {
        "id": "ijmpgYnKYklI"
      }
    },
    {
      "cell_type": "markdown",
      "source": [
        "Here, we can see that the highest number bookings were done where the number of stays in weekend nights were 0. Meaning all those were bookings were done for weekday night stays. Also, there are 1 night and 2 nights in the weekends nights booking in good numbers. These are those bookings where the guests booked the stays for a weekend i.e. Saturday and Sunday.\n",
        "\n",
        "For more than 2 night in weekends means either the booking were done for more than 7 consecutive days or bookings were done only during the weekends and not during the week days which is very uncommon and so the count of such bookings are also less."
      ],
      "metadata": {
        "id": "PSx9atu2YklI"
      }
    },
    {
      "cell_type": "markdown",
      "source": [
        "##### 3. Will the gained insights help creating a positive business impact?\n",
        "Are there any insights that lead to negative growth? Justify with specific reason."
      ],
      "metadata": {
        "id": "-JiQyfWJYklI"
      }
    },
    {
      "cell_type": "markdown",
      "source": [
        "The hotels can provide some discounts for bookings in weekend nights to attract more bookings which will increase the business in turn."
      ],
      "metadata": {
        "id": "BcBbebzrYklV"
      }
    },
    {
      "cell_type": "markdown",
      "source": [
        "#### Chart - 3"
      ],
      "metadata": {
        "id": "EM7whBJCYoAo"
      }
    },
    {
      "cell_type": "code",
      "source": [
        "# Chart - 3 visualization code\n",
        "plt.figure(figsize=(10,4))\n",
        "sns.histplot(data=booking, x='stays_in_week_nights')\n",
        "plt.show()"
      ],
      "metadata": {
        "id": "t6GMdE67YoAp"
      },
      "execution_count": null,
      "outputs": []
    },
    {
      "cell_type": "markdown",
      "source": [
        "##### 1. Why did you pick the specific chart?"
      ],
      "metadata": {
        "id": "fge-S5ZAYoAp"
      }
    },
    {
      "cell_type": "markdown",
      "source": [
        "We need to understand the trend of bookings when the frequency of booking is high and whether there is any pattern or not. Since there are only few discrete values, we can understand the frequency by using a hist-plot."
      ],
      "metadata": {
        "id": "5dBItgRVYoAp"
      }
    },
    {
      "cell_type": "markdown",
      "source": [
        "##### 2. What is/are the insight(s) found from the chart?"
      ],
      "metadata": {
        "id": "85gYPyotYoAp"
      }
    },
    {
      "cell_type": "markdown",
      "source": [
        "From the above plot, we can understand that stay in week nights is 0 means these bookings were done only for weekend nights and the number is lesser than other categories.\n",
        "\n",
        "Whereas, for week nights of 1, 2 & 3 the booking counts are maximum and for 4 & 5 night are moderate. For more than 5 week nights bookings are less."
      ],
      "metadata": {
        "id": "4jstXR6OYoAp"
      }
    },
    {
      "cell_type": "markdown",
      "source": [
        "##### 3. Will the gained insights help creating a positive business impact?\n",
        "Are there any insights that lead to negative growth? Justify with specific reason."
      ],
      "metadata": {
        "id": "RoGjAbkUYoAp"
      }
    },
    {
      "cell_type": "markdown",
      "source": [
        "To increase the bookings during weekend nights, hotels can put forward some additional discounts or package bookings to the customers.\n",
        "\n",
        "Since for more than 5 week nights, the number of bookings gets reduced, again there can be some additional discounts if the booking is made for more than 5 consecutive nights. These steps may attract more bookings."
      ],
      "metadata": {
        "id": "zfJ8IqMcYoAp"
      }
    },
    {
      "cell_type": "markdown",
      "source": [
        "#### Chart - 4"
      ],
      "metadata": {
        "id": "OH-pJp9IphqM"
      }
    },
    {
      "cell_type": "code",
      "source": [
        "# Chart - 4 visualization code\n",
        "result = booking.groupby(['hotel', target]).size().unstack(fill_value=0)\n",
        "\n",
        "categories = result.index.to_list()\n",
        "\n",
        "x = range(len(categories))\n",
        "width = 0.25\n",
        "fig, ax = plt.subplots(figsize=(7,4))\n",
        "bar1 = ax.bar(x, result[0], width, label='Not Cancelled')\n",
        "bar2 = ax.bar([pos + width for pos in x], result[1], width, label='Cancelled')\n",
        "ax.set_xticks(x)\n",
        "ax.set_xticklabels(categories)\n",
        "ax.legend()\n",
        "plt.xlabel('Hotel')\n",
        "plt.ylabel('Count of bookings')\n",
        "\n",
        "plt.show()"
      ],
      "metadata": {
        "id": "kuRf4wtuphqN"
      },
      "execution_count": null,
      "outputs": []
    },
    {
      "cell_type": "markdown",
      "source": [
        "##### 1. Why did you pick the specific chart?"
      ],
      "metadata": {
        "id": "bbFf2-_FphqN"
      }
    },
    {
      "cell_type": "markdown",
      "source": [
        "For the independent vriable 'Hotel' and the target variable 'is_cancelled' both are of categorical type, we can compare the frequency of the hotels for both type of categories from the target variable. So, as per the approach, grouped bar chart is the best possible option, hence we choose this plot."
      ],
      "metadata": {
        "id": "loh7H2nzphqN"
      }
    },
    {
      "cell_type": "markdown",
      "source": [
        "##### 2. What is/are the insight(s) found from the chart?"
      ],
      "metadata": {
        "id": "_ouA3fa0phqN"
      }
    },
    {
      "cell_type": "markdown",
      "source": [
        "1.  From the above barplot, we understand that booking in City Hotel is comparetively higher than Resort Hotel.\n",
        "\n",
        "2. For bookings in City Hotel there were above 62k bookings and around 15k bookings got cancelled i.e about 24% cancelled. For bookings in Resort Hotel, there were around 33k bookings and around 8k bookings got cancelled i.e about 24% cancelled. So, the cancellation ratio for both type of accommodation is almost same."
      ],
      "metadata": {
        "id": "VECbqPI7phqN"
      }
    },
    {
      "cell_type": "markdown",
      "source": [
        "##### 3. Will the gained insights help creating a positive business impact?\n",
        "Are there any insights that lead to negative growth? Justify with specific reason."
      ],
      "metadata": {
        "id": "Seke61FWphqN"
      }
    },
    {
      "cell_type": "markdown",
      "source": [
        "As we can see that the cancellation ratio for both type of stays are similar, so there is nothing which can reduce the growth with respect to cancellation of bookings.\n",
        "\n",
        "However, as the number of bookings are higher in case of City Hotels, the customers can be offered some additional discounts or offers towards this category of stays.\n",
        "\n",
        "Also, the business can reduce the booking cost for Resort Hotels in order to attract more customers so that the booking count is increased. Also, there can be some ad-campaign runnig for the Resorts for the same reason."
      ],
      "metadata": {
        "id": "DW4_bGpfphqN"
      }
    },
    {
      "cell_type": "markdown",
      "source": [
        "#### Chart - 5"
      ],
      "metadata": {
        "id": "PIIx-8_IphqN"
      }
    },
    {
      "cell_type": "code",
      "source": [
        "# Chart - 5 visualization code\n",
        "result = booking.groupby(['meal', target]).size().unstack(fill_value=0)\n",
        "\n",
        "#categories = result.index.to_list()\n",
        "categories = ['BB-Bed & BreakFast', 'FB-Full Board', 'FB-Half Board', 'SC-Self Catering', 'Undefined']\n",
        "\n",
        "x = range(len(categories))\n",
        "width = 0.3\n",
        "fig, ax = plt.subplots(figsize=(7,5))\n",
        "bar1 = ax.bar(x, result[0], width, label='Not Cancelled')\n",
        "bar2 = ax.bar([pos + width for pos in x], result[1], width, label='Cancelled')\n",
        "ax.set_xticks(x)\n",
        "ax.set_xticklabels(categories, rotation=45)\n",
        "ax.legend()\n",
        "plt.xlabel('Type of meals')\n",
        "plt.ylabel('Number of bookings')\n",
        "\n",
        "plt.show()"
      ],
      "metadata": {
        "id": "lqAIGUfyphqO"
      },
      "execution_count": null,
      "outputs": []
    },
    {
      "cell_type": "markdown",
      "source": [
        "##### 1. Why did you pick the specific chart?"
      ],
      "metadata": {
        "id": "H73xbAirqr2g"
      }
    },
    {
      "cell_type": "markdown",
      "source": [
        "For the independent vriable 'meal' and the target variable 'is_cancelled' both are of categorical type, we can compare the frequency of bookings associated to meal types for both type of categories from the target variable. So, as per the approach, grouped bar chart is the best possible option, hence we choose this plot."
      ],
      "metadata": {
        "id": "iv6ro40sphqO"
      }
    },
    {
      "cell_type": "markdown",
      "source": [
        "##### 2. What is/are the insight(s) found from the chart?"
      ],
      "metadata": {
        "id": "r2jJGEOYphqO"
      }
    },
    {
      "cell_type": "markdown",
      "source": [
        "1. Customers are most interested in booking hotels with breakfast. These type of customers can be tourists or visiting with a business purpose.\n",
        "2. Bookings with breakfast + dinner and booking with no meal option are moderate.\n",
        "3. People are not really interested to book hotels with all three meals (breakfast, lunch and dinner) and hence the booking number is very less."
      ],
      "metadata": {
        "id": "Po6ZPi4hphqO"
      }
    },
    {
      "cell_type": "markdown",
      "source": [
        "##### 3. Will the gained insights help creating a positive business impact?\n",
        "Are there any insights that lead to negative growth? Justify with specific reason."
      ],
      "metadata": {
        "id": "b0JNsNcRphqO"
      }
    },
    {
      "cell_type": "markdown",
      "source": [
        "The business is very good for hotel booking with respect to BB category which Bed & Breakfast. No need to focus on this.\n",
        "\n",
        "However, to increase the number of bookings in other category, there could be different offers introduced and the same can be advertised to attract more and more customers."
      ],
      "metadata": {
        "id": "xvSq8iUTphqO"
      }
    },
    {
      "cell_type": "markdown",
      "source": [
        "bold text#### Chart - 6"
      ],
      "metadata": {
        "id": "BZR9WyysphqO"
      }
    },
    {
      "cell_type": "code",
      "source": [
        "# Chart - 6 visualization code\n",
        "result = booking.groupby(['market_segment', target]).size().unstack(fill_value=0)\n",
        "\n",
        "categories = result.index.to_list()\n",
        "\n",
        "x = range(len(categories))\n",
        "width = 0.4\n",
        "fig, ax = plt.subplots(figsize=(7,4))\n",
        "bar1 = ax.bar(x, result[0], width, label='Not Cancelled')\n",
        "bar2 = ax.bar([pos + width for pos in x], result[1], width, label='Cancelled')\n",
        "ax.set_xticks(x)\n",
        "ax.set_xticklabels(categories, rotation=90)\n",
        "ax.legend()\n",
        "plt.xlabel('Market segment')\n",
        "plt.ylabel('Number of bookings')\n",
        "\n",
        "plt.show()"
      ],
      "metadata": {
        "id": "TdPTWpAVphqO"
      },
      "execution_count": null,
      "outputs": []
    },
    {
      "cell_type": "markdown",
      "source": [
        "##### 1. Why did you pick the specific chart?"
      ],
      "metadata": {
        "id": "jj7wYXLtphqO"
      }
    },
    {
      "cell_type": "markdown",
      "source": [
        "For the independent vriable 'Market Segment' and the target variable 'is_cancelled' both are of categorical type, we can compare the frequency of bookings associated to different market segments for both type of categories from the target variable. So, as per the approach, grouped bar chart is the best possible option, hence we choose this plot."
      ],
      "metadata": {
        "id": "Ob8u6rCTphqO"
      }
    },
    {
      "cell_type": "markdown",
      "source": [
        "##### 2. What is/are the insight(s) found from the chart?"
      ],
      "metadata": {
        "id": "eZrbJ2SmphqO"
      }
    },
    {
      "cell_type": "markdown",
      "source": [
        "1. The highest number of bookings were done through Travel Agents (both Online and Offline). But the cancellation ratio very high in case of Online Travel Agent bookings compared to Offline bookings.\n",
        "2.  The cancellation ratio is almost 33% for groups bookings.\n",
        "3.  For corporate and direct bookings, even though the total number of booking are lesser than travel agent booking, the cancellation ratio is significantly lesser when compared to travel agent bookings.\n",
        "4.  For the Aviation category bookings, the total number of booking is also very less."
      ],
      "metadata": {
        "id": "mZtgC_hjphqO"
      }
    },
    {
      "cell_type": "markdown",
      "source": [
        "##### 3. Will the gained insights help creating a positive business impact?\n",
        "Are there any insights that lead to negative growth? Justify with specific reason."
      ],
      "metadata": {
        "id": "rFu4xreNphqO"
      }
    },
    {
      "cell_type": "markdown",
      "source": [
        "1.  For bookings through the online travel agent, cancellation ratio is very high, almost 33%. To make some good business out of this category, great booking deals should be in place and the booking price should be competitive in the market. To reduce the number of cancellation, there can be early bird offers, complementary meals, free upgradation etc. can be offered to the customers.\n",
        "2.  For group bookings, since the plan might change for one or two people in the group at the end moment, there should be partial cancellation introduced so that rest of the group can enjoy the stay. Also, for group bookings, some discounts may be offered on overall bill based on the number of people in the groups.\n",
        "3.  Since, the cancellation ratio is very very less in case of corporate and direct bookings, this sector is making good business. The business should focus more on the ad-campaigns to attract more customers.\n",
        "4.  Since, the number of bookings are very less in aviation category, hotels can make tie-ups with different aviation companies and offer good deals to the aviation industry employees. In this way, this sectors' booking might be increased."
      ],
      "metadata": {
        "id": "ey_0qi68phqO"
      }
    },
    {
      "cell_type": "markdown",
      "source": [
        "#### Chart - 7"
      ],
      "metadata": {
        "id": "U2RJ9gkRphqQ"
      }
    },
    {
      "cell_type": "code",
      "source": [
        "# Chart - 7 visualization code\n",
        "result = booking.groupby(['reserved_room_type', target]).size().unstack(fill_value=0)\n",
        "\n",
        "categories = result.index.to_list()\n",
        "\n",
        "x = range(len(categories))\n",
        "width = 0.4\n",
        "fig, ax = plt.subplots(figsize=(9,5))\n",
        "bar1 = ax.bar(x, result[0], width, label='Not Cancelled')\n",
        "bar2 = ax.bar([pos + width for pos in x], result[1], width, label='Cancelled')\n",
        "ax.set_xticks(x)\n",
        "ax.set_xticklabels(categories)\n",
        "ax.legend()\n",
        "plt.xlabel('Reserved room type')\n",
        "plt.ylabel('Number of bookings')\n",
        "\n",
        "plt.show()"
      ],
      "metadata": {
        "id": "GM7a4YP4phqQ"
      },
      "execution_count": null,
      "outputs": []
    },
    {
      "cell_type": "markdown",
      "source": [
        "##### 1. Why did you pick the specific chart?"
      ],
      "metadata": {
        "id": "1M8mcRywphqQ"
      }
    },
    {
      "cell_type": "markdown",
      "source": [
        "For the independent vriable 'Reserved room type' and the target variable 'is_cancelled' both are of categorical type, we can compare the frequency of bookings associated to reserved room type for both type of categories from the target variable. So, as per the approach, grouped bar chart is the best possible option, hence we choose this plot."
      ],
      "metadata": {
        "id": "8agQvks0phqQ"
      }
    },
    {
      "cell_type": "markdown",
      "source": [
        "##### 2. What is/are the insight(s) found from the chart?"
      ],
      "metadata": {
        "id": "tgIPom80phqQ"
      }
    },
    {
      "cell_type": "markdown",
      "source": [
        "1. Bookings reserved in room type A are maximum.\n",
        "2. Bookings reserved in room type D and E are moderate.\n",
        "3. Booking reserved in other type of rooms are negligible."
      ],
      "metadata": {
        "id": "Qp13pnNzphqQ"
      }
    },
    {
      "cell_type": "markdown",
      "source": [
        "##### 3. Will the gained insights help creating a positive business impact?\n",
        "Are there any insights that lead to negative growth? Justify with specific reason."
      ],
      "metadata": {
        "id": "JMzcOPDDphqR"
      }
    },
    {
      "cell_type": "markdown",
      "source": [
        " Type A rooms might be more spacious than the others or view of outdoor natural scenic beauty from A type rooms might be quite good. Hotels should make more advertisements to attract more customers.\n",
        "\n",
        "The quality of room type D and E might be not be as good as room type A. So hotels should offer some discount for these type of rooms.\n",
        "\n",
        "As bookings reserved in other type of rooms are negligible, hotel should revamp these type of rooms and convert them to A type."
      ],
      "metadata": {
        "id": "R4Ka1PC2phqR"
      }
    },
    {
      "cell_type": "markdown",
      "source": [
        "#### Chart - 8"
      ],
      "metadata": {
        "id": "n3dbpmDWp1ck"
      }
    },
    {
      "cell_type": "code",
      "source": [
        "# Chart - 8 visualization code\n",
        "result = booking.groupby(['deposit_type', target]).size().unstack(fill_value=0)\n",
        "\n",
        "categories = result.index.to_list()\n",
        "\n",
        "x = range(len(categories))\n",
        "width = 0.4\n",
        "fig, ax = plt.subplots(figsize=(6,4))\n",
        "bar1 = ax.bar(x, result[0], width, label='Not Cancelled')\n",
        "bar2 = ax.bar([pos + width for pos in x], result[1], width, label='Cancelled')\n",
        "ax.set_xticks(x)\n",
        "ax.set_xticklabels(categories)\n",
        "ax.legend()\n",
        "plt.xlabel('Deposit_type')\n",
        "plt.ylabel('Number of bookings')\n",
        "\n",
        "\n",
        "plt.show()"
      ],
      "metadata": {
        "id": "bwevp1tKp1ck"
      },
      "execution_count": null,
      "outputs": []
    },
    {
      "cell_type": "markdown",
      "source": [
        "##### 1. Why did you pick the specific chart?"
      ],
      "metadata": {
        "id": "ylSl6qgtp1ck"
      }
    },
    {
      "cell_type": "markdown",
      "source": [
        "For the independent vriable 'Deposit_type' and the target variable 'is_cancelled' both are of categorical type, we can compare the frequency of bookings associated to deposit type for both type of categories from the target variable. So, as per the approach, grouped bar chart is the best possible option, hence we choose this plot."
      ],
      "metadata": {
        "id": "m2xqNkiQp1ck"
      }
    },
    {
      "cell_type": "markdown",
      "source": [
        "##### 2. What is/are the insight(s) found from the chart?"
      ],
      "metadata": {
        "id": "ZWILFDl5p1ck"
      }
    },
    {
      "cell_type": "markdown",
      "source": [
        "Most of the bookings are done with no deposit type option. Bookings done with other type of deposit option such as non refund and refundable are very less in numbers."
      ],
      "metadata": {
        "id": "x-lUsV2mp1ck"
      }
    },
    {
      "cell_type": "markdown",
      "source": [
        "##### 3. Will the gained insights help creating a positive business impact?\n",
        "Are there any insights that lead to negative growth? Justify with specific reason."
      ],
      "metadata": {
        "id": "M7G43BXep1ck"
      }
    },
    {
      "cell_type": "markdown",
      "source": [
        "There should be more number of availability of rooms with no deposit booking option so that more such booking happens. Also to increase the bookings for other categories, there should be lucrative offers or discounts to attract more customers."
      ],
      "metadata": {
        "id": "5wwDJXsLp1cl"
      }
    },
    {
      "cell_type": "markdown",
      "source": [
        "#### Chart - 9"
      ],
      "metadata": {
        "id": "Ag9LCva-p1cl"
      }
    },
    {
      "cell_type": "code",
      "source": [
        "# Chart - 9 visualization code\n",
        "result = booking.groupby(['customer_type', target]).size().unstack(fill_value=0)\n",
        "\n",
        "categories = result.index.to_list()\n",
        "\n",
        "x = range(len(categories))\n",
        "width = 0.4\n",
        "fig, ax = plt.subplots(figsize=(8,4))\n",
        "bar1 = ax.bar(x, result[0], width, label='Not Cancelled')\n",
        "bar2 = ax.bar([pos + width for pos in x], result[1], width, label='Cancelled')\n",
        "ax.set_xticks(x)\n",
        "ax.set_xticklabels(categories, rotation=30)\n",
        "ax.legend()\n",
        "plt.xlabel('Customer type')\n",
        "plt.ylabel('Number of bookings')\n",
        "\n",
        "plt.show()"
      ],
      "metadata": {
        "id": "EUfxeq9-p1cl"
      },
      "execution_count": null,
      "outputs": []
    },
    {
      "cell_type": "markdown",
      "source": [
        "##### 1. Why did you pick the specific chart?"
      ],
      "metadata": {
        "id": "E6MkPsBcp1cl"
      }
    },
    {
      "cell_type": "markdown",
      "source": [
        "For the independent vriable 'Customer Type' and the target variable 'is_cancelled' both are of categorical type, we can compare the frequency of bookings associated to customer type for both type of categories from the target variable. So, as per the approach, grouped bar chart is the best possible option, hence we choose this plot."
      ],
      "metadata": {
        "id": "V22bRsFWp1cl"
      }
    },
    {
      "cell_type": "markdown",
      "source": [
        "##### 2. What is/are the insight(s) found from the chart?"
      ],
      "metadata": {
        "id": "2cELzS2fp1cl"
      }
    },
    {
      "cell_type": "markdown",
      "source": [
        "We can see that bookings for transient type customers and transient-party customers are making most number of bookings. These are generally bookings for short stays.\n",
        "\n",
        "On the other hand, bookings from groups or contract type customers are less in numbers."
      ],
      "metadata": {
        "id": "ozQPc2_Ip1cl"
      }
    },
    {
      "cell_type": "markdown",
      "source": [
        "##### 3. Will the gained insights help creating a positive business impact?\n",
        "Are there any insights that lead to negative growth? Justify with specific reason."
      ],
      "metadata": {
        "id": "3MPXvC8up1cl"
      }
    },
    {
      "cell_type": "markdown",
      "source": [
        "Since, the for groups and contract type customers, the number of bookings are less, additional offers such as discounts, free meal etc. can be given and proper ad-campaigns can really help increasing the number of bookings."
      ],
      "metadata": {
        "id": "GL8l1tdLp1cl"
      }
    },
    {
      "cell_type": "markdown",
      "source": [
        "#### Chart - 10"
      ],
      "metadata": {
        "id": "k0jfdFOkbrGJ"
      }
    },
    {
      "cell_type": "code",
      "source": [
        "# Chart - 10 visualization code\n",
        "\n",
        "\n",
        "result = booking.groupby(['adults', target]).size().unstack(fill_value=0)\n",
        "\n",
        "categories = result.index.to_list()\n",
        "\n",
        "x = range(len(categories))\n",
        "width = 0.4\n",
        "fig, ax = plt.subplots(figsize=(10,4))\n",
        "bar1 = ax.bar(x, result[0], width, label='Not Cancelled')\n",
        "bar2 = ax.bar([pos + width for pos in x], result[1], width, label='Cancelled')\n",
        "ax.set_xticks(x)\n",
        "ax.set_xticklabels(categories)\n",
        "ax.legend()\n",
        "plt.xlabel('Number of adults')\n",
        "plt.ylabel('Number of bookings')\n",
        "\n",
        "plt.show()"
      ],
      "metadata": {
        "id": "favKioChb0Oz"
      },
      "execution_count": null,
      "outputs": []
    },
    {
      "cell_type": "markdown",
      "source": [
        "##### 1. Why did you pick the specific chart?"
      ],
      "metadata": {
        "id": "zGq-Xn7Pbq0q"
      }
    },
    {
      "cell_type": "markdown",
      "source": [
        "For the independent vriable 'adult' and the target variable 'is_cancelled' both are of categorical type, we can compare the frequency of bookings associated to number of adults for both type of categories from the target variable. So, as per the approach, grouped bar chart is the best possible option, hence we choose this plot."
      ],
      "metadata": {
        "id": "JD8IDEeIb4O9"
      }
    },
    {
      "cell_type": "markdown",
      "source": [
        "##### 2. What is/are the insight(s) found from the chart?"
      ],
      "metadata": {
        "id": "6wqpUhdtbqsN"
      }
    },
    {
      "cell_type": "markdown",
      "source": [
        "1.  Bookings for number of adults 2 are maximum which can be a couple.\n",
        "2.  Bookings for number of adult 1 are moderate.\n",
        "3.  Bookings for number of adults 3 are comparetively lesser.\n",
        "4.  Bookings for number of adults more than 3 are negligible."
      ],
      "metadata": {
        "id": "zfiM-xZyb58Y"
      }
    },
    {
      "cell_type": "markdown",
      "source": [
        "##### 3. Will the gained insights help creating a positive business impact?\n",
        "Are there any insights that lead to negative growth? Justify with specific reason."
      ],
      "metadata": {
        "id": "sprZIukibqh5"
      }
    },
    {
      "cell_type": "markdown",
      "source": [
        "As bookings for number of adults 2 are highest, hotels should add some extra facilities and discounts in double shared bedrooms to attract more customers.\n",
        "\n",
        "As bookings for number of adults 1 are moderate, the hotel should introduce some single occupancy rooms with handsome facilities. That will be budget friendly for the customers who were assigned double occupancy rooms instead of being one adult.\n",
        "\n",
        "As bookings for number of adults 3 are comparetively lesser, there might be unavialability of three-occupancy rooms. So the customers needs to book two rooms in that case. To resolve this , the hotels should introduce some three- occupancy rooms. In this way, the customers have to pay lesser money and the count of bookings will increase."
      ],
      "metadata": {
        "id": "sLBLMMpyb6sU"
      }
    },
    {
      "cell_type": "markdown",
      "source": [
        "#### Chart - 11"
      ],
      "metadata": {
        "id": "C3PogyelcT4l"
      }
    },
    {
      "cell_type": "code",
      "source": [
        "# Chart - 11 visualization code\n",
        "\n",
        "result = booking.groupby(['children', target]).size().unstack(fill_value=0)\n",
        "\n",
        "categories = result.index.to_list()\n",
        "\n",
        "x = range(len(categories))\n",
        "width = 0.3\n",
        "fig, ax = plt.subplots(figsize=(8,4))\n",
        "bar1 = ax.bar(x, result[0], width, label='Not Cancelled')\n",
        "bar2 = ax.bar([pos + width for pos in x], result[1], width, label='Cancelled')\n",
        "ax.set_xticks(x)\n",
        "ax.set_xticklabels(categories)\n",
        "ax.legend()\n",
        "plt.xlabel('Number of children')\n",
        "plt.ylabel('Number of bookings')\n",
        "\n",
        "plt.show()\n"
      ],
      "metadata": {
        "id": "b-hSCf0mc2PW"
      },
      "execution_count": null,
      "outputs": []
    },
    {
      "cell_type": "markdown",
      "source": [
        "##### 1. Why did you pick the specific chart?"
      ],
      "metadata": {
        "id": "48en0jIrcWNE"
      }
    },
    {
      "cell_type": "markdown",
      "source": [
        "For the independent vriable 'children' and the target variable 'is_cancelled' both are of categorical type, we can compare the frequency of bookings associated to number of children for both type of categories from the target variable. So, as per the approach, grouped bar chart is the best possible option, hence we choose this plot."
      ],
      "metadata": {
        "id": "hUdEz-dDc73k"
      }
    },
    {
      "cell_type": "markdown",
      "source": [
        "##### 2. What is/are the insight(s) found from the chart?"
      ],
      "metadata": {
        "id": "DE3FttPUcXFr"
      }
    },
    {
      "cell_type": "markdown",
      "source": [
        "1. From the above plot we can understand that bookings are highest for having no children.\n",
        "2. There are some bookings for having 1 or 2 children.\n",
        "3. Bookings for having more than 2 chilren are negligible."
      ],
      "metadata": {
        "id": "e9A0EVuic-fb"
      }
    },
    {
      "cell_type": "markdown",
      "source": [
        "##### 3. Will the gained insights help creating a positive business impact?\n",
        "Are there any insights that lead to negative growth? Justify with specific reason."
      ],
      "metadata": {
        "id": "-OnwMfB5cvTb"
      }
    },
    {
      "cell_type": "markdown",
      "source": [
        "As bookings are highest for having no children, hotels should introduce some rooms without accomodation of children to avoid extra charges which will lead to lower budget of the rooms.\n",
        "\n",
        "As there are some bookings for having 1 or 2 children, hotels should introduce some rooms with special accomodation for children.\n",
        "\n",
        "As bookings for having more than 2 children are negligible, hotels should revamp rooms with facilities for more than 2 children and convert them into two occupancy rooms."
      ],
      "metadata": {
        "id": "iD9vC-_PdAeQ"
      }
    },
    {
      "cell_type": "markdown",
      "source": [
        "#### Chart - 12"
      ],
      "metadata": {
        "id": "rGSS088x-NCF"
      }
    },
    {
      "cell_type": "code",
      "source": [
        "# Chart - 12 visualization code\n",
        "\n",
        "result = booking.groupby(['is_repeated_guest', target]).size().unstack(fill_value=0)\n",
        "\n",
        "categories = result.index.to_list()\n",
        "\n",
        "x = range(len(categories))\n",
        "width = 0.3\n",
        "fig, ax = plt.subplots(figsize=(6,4))\n",
        "bar1 = ax.bar(x, result[0], width, label='Not Cancelled')\n",
        "bar2 = ax.bar([pos + width for pos in x], result[1], width, label='Cancelled')\n",
        "ax.set_xticks(x)\n",
        "ax.set_xticklabels(categories)\n",
        "ax.legend()\n",
        "plt.xlabel('Number of repeated guestes')\n",
        "plt.ylabel('Number of bookings')\n",
        "\n",
        "plt.show()"
      ],
      "metadata": {
        "id": "cMoyFuFH-OMJ"
      },
      "execution_count": null,
      "outputs": []
    },
    {
      "cell_type": "markdown",
      "source": [
        "##### 1. Why did you pick the specific chart?"
      ],
      "metadata": {
        "id": "RqdBYaTd-PsF"
      }
    },
    {
      "cell_type": "markdown",
      "source": [
        "For the independent vriable 'is_repeated_guest' and the target variable 'is_cancelled' both are of categorical type, we can compare the frequency of bookings associated to number of repeated guests for both type of categories from the target variable. So, as per the approach, grouped bar chart is the best possible option, hence we choose this plot."
      ],
      "metadata": {
        "id": "tH2S4B3O-gJ0"
      }
    },
    {
      "cell_type": "markdown",
      "source": [
        "##### 2. What is/are the insight(s) found from the chart?"
      ],
      "metadata": {
        "id": "IGJFfVEG-Phx"
      }
    },
    {
      "cell_type": "markdown",
      "source": [
        "Most number of bookings happen with non repeated customers. Also we can see that bookings from repeated  customers are very less in number which may signify that the repeating customers are not willing to stay in the same hotel more than once without any special discount being given."
      ],
      "metadata": {
        "id": "plUbXBdQ-h5f"
      }
    },
    {
      "cell_type": "markdown",
      "source": [
        "##### 3. Will the gained insights help creating a positive business impact?\n",
        "Are there any insights that lead to negative growth? Justify with specific reason."
      ],
      "metadata": {
        "id": "vinwlFdz-j3w"
      }
    },
    {
      "cell_type": "markdown",
      "source": [
        "To increase the bookings from repeating customers, they can be provided with extra benefits or some stay-meal combo offers."
      ],
      "metadata": {
        "id": "_lssZyZWU1gr"
      }
    },
    {
      "cell_type": "markdown",
      "source": [
        "#### Chart - 13"
      ],
      "metadata": {
        "id": "VYZQU_TFDBK9"
      }
    },
    {
      "cell_type": "code",
      "source": [
        "# Chart - 13 visualization code\n",
        "\n",
        "result = booking.groupby(['previous_cancellations', target]).size().unstack(fill_value=0)\n",
        "categories = result.index.to_list()\n",
        "\n",
        "x = range(len(categories))\n",
        "width = 0.3\n",
        "fig, ax = plt.subplots(figsize=(10,4))\n",
        "bar1 = ax.bar(x, result[0], width, label='Not Cancelled')\n",
        "bar2 = ax.bar([pos + width for pos in x], result[1], width, label='Cancelled')\n",
        "ax.set_xticks(x)\n",
        "ax.set_xticklabels(categories)\n",
        "ax.legend()\n",
        "plt.xlabel('Number of previous cancellations')\n",
        "plt.ylabel('Number of bookings')\n",
        "\n",
        "plt.show()"
      ],
      "metadata": {
        "id": "ahJFj6F9DBu8"
      },
      "execution_count": null,
      "outputs": []
    },
    {
      "cell_type": "markdown",
      "source": [
        "##### 1. Why did you pick the specific chart?"
      ],
      "metadata": {
        "id": "94fFdsCEDCXP"
      }
    },
    {
      "cell_type": "markdown",
      "source": [
        "For the independent vriable 'previous_cancellations' and the target variable 'is_cancelled' both are of categorical type, we can compare the frequency of bookings associated to number of previous cancellations for both type of categories from the target variable. So, as per the approach, grouped bar chart is the best possible option, hence we choose this plot."
      ],
      "metadata": {
        "id": "qU7VlzMDDQrX"
      }
    },
    {
      "cell_type": "markdown",
      "source": [
        "##### 2. What is/are the insight(s) found from the chart?"
      ],
      "metadata": {
        "id": "mDh2o1XzDCSi"
      }
    },
    {
      "cell_type": "markdown",
      "source": [
        "For people not having history of cancelling hotels are actually doing highest number of bookings. People having history of cancelling hotels for 1 or 2 times or more, are booking hotels very less in numbers."
      ],
      "metadata": {
        "id": "r36IGW5rDXfa"
      }
    },
    {
      "cell_type": "markdown",
      "source": [
        "##### 3. Will the gained insights help creating a positive business impact?\n",
        "Are there any insights that lead to negative growth? Justify with specific reason."
      ],
      "metadata": {
        "id": "Ge-8FqHhDCNU"
      }
    },
    {
      "cell_type": "markdown",
      "source": [
        "As  people not having history of cancelling hotels are actually doing highest number of bookings, hotels should consider these group of customers as the target audience and plan the ad-campaign accordingly."
      ],
      "metadata": {
        "id": "mibn7m1U-nN4"
      }
    },
    {
      "cell_type": "markdown",
      "source": [
        "#### Chart - 14"
      ],
      "metadata": {
        "id": "1KB-3qn9E7D-"
      }
    },
    {
      "cell_type": "code",
      "source": [
        "# Chart - 14 visualization code\n",
        "\n",
        "result = booking.groupby(['booking_changes', target]).size().unstack(fill_value=0)\n",
        "\n",
        "categories = result.index.to_list()\n",
        "\n",
        "x = range(len(categories))\n",
        "width = 0.4\n",
        "fig, ax = plt.subplots(figsize=(12,4))\n",
        "bar1 = ax.bar(x, result[0], width, label='Not Cancelled')\n",
        "bar2 = ax.bar([pos + width for pos in x], result[1], width, label='Cancelled')\n",
        "ax.set_xticks(x)\n",
        "ax.set_xticklabels(categories)\n",
        "ax.legend()\n",
        "plt.xlabel('Number of booking changes')\n",
        "plt.ylabel('Number of bookings')\n",
        "\n",
        "plt.show()"
      ],
      "metadata": {
        "id": "uZimOxVVE7kd"
      },
      "execution_count": null,
      "outputs": []
    },
    {
      "cell_type": "markdown",
      "source": [
        "##### 1. Why did you pick the specific chart?"
      ],
      "metadata": {
        "id": "VppFJaC4E8Im"
      }
    },
    {
      "cell_type": "markdown",
      "source": [
        "For the independent vriable 'booking_changes' and the target variable 'is_cancelled' both are of categorical type, we can compare the frequency of bookings associated to number of booking changes for both type of categories from the target variable. So, as per the approach, grouped bar chart is the best possible option, hence we choose this plot."
      ],
      "metadata": {
        "id": "NXsFBAiqFJ3O"
      }
    },
    {
      "cell_type": "markdown",
      "source": [
        "##### 2. What is/are the insight(s) found from the chart?"
      ],
      "metadata": {
        "id": "frtjBvwhE8FI"
      }
    },
    {
      "cell_type": "markdown",
      "source": [
        "We can see that for most number of bookings there were no changes made after the booking was confirmed. However, for this category, the cancellation ratio is higher than for those there were some changes made."
      ],
      "metadata": {
        "id": "DHMkgP1iFMAQ"
      }
    },
    {
      "cell_type": "markdown",
      "source": [
        "##### 3. Will the gained insights help creating a positive business impact?\n",
        "Are there any insights that lead to negative growth? Justify with specific reason."
      ],
      "metadata": {
        "id": "Hu6i7qN5E8Ai"
      }
    },
    {
      "cell_type": "markdown",
      "source": [
        "The hotels can make an arrangement for a follow up call or email to the customers after the bookings were done and confirm if there is any modified requirements and if there is, the hotel should cooperate to fulfil such requests at minimal cost. In the way, the cancellation ratio can be reduced."
      ],
      "metadata": {
        "id": "hROdzd5IFPzZ"
      }
    },
    {
      "cell_type": "markdown",
      "source": [
        "#### Chart - 15"
      ],
      "metadata": {
        "id": "FMl18_orFZHz"
      }
    },
    {
      "cell_type": "code",
      "source": [
        "# Chart - 15 visualization code\n",
        "\n",
        "result = booking.groupby(['required_car_parking_spaces', target]).size().unstack(fill_value=0)\n",
        "\n",
        "categories = result.index.to_list()\n",
        "\n",
        "x = range(len(categories))\n",
        "width = 0.4\n",
        "fig, ax = plt.subplots(figsize=(6,4))\n",
        "bar1 = ax.bar(x, result[0], width, label='Not Cancelled')\n",
        "bar2 = ax.bar([pos + width for pos in x], result[1], width, label='Cancelled')\n",
        "ax.set_xticks(x)\n",
        "ax.set_xticklabels(categories)\n",
        "ax.legend()\n",
        "plt.xlabel('Required car parking spaces')\n",
        "plt.ylabel('Number of bookings')\n",
        "\n",
        "plt.show()"
      ],
      "metadata": {
        "id": "MbnlY5TlFZ4g"
      },
      "execution_count": null,
      "outputs": []
    },
    {
      "cell_type": "markdown",
      "source": [
        "##### 1. Why did you pick the specific chart?"
      ],
      "metadata": {
        "id": "HR0xglKsFa5Y"
      }
    },
    {
      "cell_type": "markdown",
      "source": [
        "For the independent vriable 'required car parking space' and the target variable 'is_cancelled' both are of categorical type, we can compare the frequency of bookings associated to number of parking space required for both type of categories from the target variable. So, as per the approach, grouped bar chart is the best possible option, hence we choose this plot."
      ],
      "metadata": {
        "id": "JSxQ_5vAFa0V"
      }
    },
    {
      "cell_type": "markdown",
      "source": [
        "##### 2. What is/are the insight(s) found from the chart?"
      ],
      "metadata": {
        "id": "fO01p_EeFavT"
      }
    },
    {
      "cell_type": "markdown",
      "source": [
        "Maximum bookings happen with no requirement of car parking spaces. Lesser number of bookings happen with the requirement of 1 car parking space. Neglible number of bookings happen with 2 or more requirement of car parking spaces."
      ],
      "metadata": {
        "id": "mSQD4gGMFaqy"
      }
    },
    {
      "cell_type": "markdown",
      "source": [
        "##### 3. Will the gained insights help creating a positive business impact?\n",
        "Are there any insights that lead to negative growth? Justify with specific reason."
      ],
      "metadata": {
        "id": "zXRHIbrCFami"
      }
    },
    {
      "cell_type": "markdown",
      "source": [
        "To attract more customers hotels should introduce some offers such as free parking space or the free accomodation for the drivers."
      ],
      "metadata": {
        "id": "DDle3bMyFpmu"
      }
    },
    {
      "cell_type": "markdown",
      "source": [
        "#### Chart - 16"
      ],
      "metadata": {
        "id": "TKDymJy-HyMl"
      }
    },
    {
      "cell_type": "code",
      "source": [
        "# Chart - 16 visualization code\n",
        "\n",
        "result = booking.groupby(['total_of_special_requests', target]).size().unstack(fill_value=0)\n",
        "\n",
        "categories = result.index.to_list()\n",
        "\n",
        "x = range(len(categories))\n",
        "width = 0.4\n",
        "fig, ax = plt.subplots(figsize=(6,4))\n",
        "bar1 = ax.bar(x, result[0], width, label='Not Cancelled')\n",
        "bar2 = ax.bar([pos + width for pos in x], result[1], width, label='Cancelled')\n",
        "ax.set_xticks(x)\n",
        "ax.set_xticklabels(categories)\n",
        "ax.legend()\n",
        "plt.xlabel('Total of special requests')\n",
        "plt.ylabel('Number of bookings')\n",
        "\n",
        "plt.show()"
      ],
      "metadata": {
        "id": "XqnPheMRHywI"
      },
      "execution_count": null,
      "outputs": []
    },
    {
      "cell_type": "markdown",
      "source": [
        "##### 1. Why did you pick the specific chart?"
      ],
      "metadata": {
        "id": "k8OK7_rWHzkO"
      }
    },
    {
      "cell_type": "markdown",
      "source": [
        "For the independent vriable 'total special requests' and the target variable 'is_cancelled' both are of categorical type, we can compare the frequency of bookings associated to number of special requests made for both type of categories from the target variable. So, as per the approach, grouped bar chart is the best possible option, hence we choose this plot."
      ],
      "metadata": {
        "id": "9gr4dpUPHzgx"
      }
    },
    {
      "cell_type": "markdown",
      "source": [
        "##### 2. What is/are the insight(s) found from the chart?"
      ],
      "metadata": {
        "id": "KNBlhxTyHzc3"
      }
    },
    {
      "cell_type": "markdown",
      "source": [
        "Out of total bookings, maximum bookings are done with no special requests. Bookings with 1 or 2 special requests also happen in moderate numbers. Bookings with 3 or more number of special requests happen very rarely.\n",
        "\n",
        "Percentage of cancellation for bookings with no special requests (approximately 33%) is comparetively higher than percentage of cancellation for the bookings with special requests(approximately 25%)."
      ],
      "metadata": {
        "id": "fQtwMaTLHzX7"
      }
    },
    {
      "cell_type": "markdown",
      "source": [
        "##### 3. Will the gained insights help creating a positive business impact?\n",
        "Are there any insights that lead to negative growth? Justify with specific reason."
      ],
      "metadata": {
        "id": "Q2Or5SK3IK2F"
      }
    },
    {
      "cell_type": "markdown",
      "source": [
        "The hotels can push a little bit more to all the bookings whether they want to make any changes in the bookings or not. This way, customers can get more confidence in the bookings done.\n",
        "\n",
        "Also, if the changes after the booking is confirmed does not draw any penalty, customers will be more comfortable financially and will not cancel the reservations."
      ],
      "metadata": {
        "id": "WZsF6ewQIKq_"
      }
    },
    {
      "cell_type": "markdown",
      "source": [
        "#### Chart - 14 - Correlation Heatmap"
      ],
      "metadata": {
        "id": "NC_X3p0fY2L0"
      }
    },
    {
      "cell_type": "code",
      "source": [
        "# Correlation Heatmap visualization code\n",
        "corr = booking[num_cols].corr()\n",
        "\n",
        "plt.figure(figsize =(6,6))\n",
        "sns.heatmap(corr, annot = True, cmap = 'coolwarm')\n",
        "\n",
        "plt.show()"
      ],
      "metadata": {
        "id": "xyC9zolEZNRQ"
      },
      "execution_count": null,
      "outputs": []
    },
    {
      "cell_type": "markdown",
      "source": [
        "##### 1. Why did you pick the specific chart?"
      ],
      "metadata": {
        "id": "UV0SzAkaZNRQ"
      }
    },
    {
      "cell_type": "markdown",
      "source": [
        "For our analysis we need to make sure that there is no strong correlation between the independent variables(numeric). Heatmap(correlation) is the best available plot for this purpose. Hence we choose this."
      ],
      "metadata": {
        "id": "DVPuT8LYZNRQ"
      }
    },
    {
      "cell_type": "markdown",
      "source": [
        "##### 2. What is/are the insight(s) found from the chart?"
      ],
      "metadata": {
        "id": "YPEH6qLeZNRQ"
      }
    },
    {
      "cell_type": "markdown",
      "source": [
        "We can see from the plot that the correlation coefficient values are close to zero for all variables which indicates that there is no strong colinearity amongst the independent variables."
      ],
      "metadata": {
        "id": "bfSqtnDqZNRR"
      }
    },
    {
      "cell_type": "markdown",
      "source": [
        "#### Chart - 15 - Pair Plot"
      ],
      "metadata": {
        "id": "q29F0dvdveiT"
      }
    },
    {
      "cell_type": "code",
      "source": [
        "# Pair Plot visualization code\n",
        "sns.set(style=\"whitegrid\")\n",
        "plt.figure(figsize =(10,10))\n",
        "sns.pairplot(data = booking[num_cols])\n",
        "\n",
        "plt.show()"
      ],
      "metadata": {
        "id": "o58-TEIhveiU"
      },
      "execution_count": null,
      "outputs": []
    },
    {
      "cell_type": "markdown",
      "source": [
        "##### 1. Why did you pick the specific chart?"
      ],
      "metadata": {
        "id": "EXh0U9oCveiU"
      }
    },
    {
      "cell_type": "markdown",
      "source": [
        "For our analysis we need to make sure that there is no strong correlation between the independent variables(numeric). Even if there is some relation we need to understand the kind of relationship they have. For this purpose, pairplot is the best available option.Hence we choose this."
      ],
      "metadata": {
        "id": "eMmPjTByveiU"
      }
    },
    {
      "cell_type": "markdown",
      "source": [
        "##### 2. What is/are the insight(s) found from the chart?"
      ],
      "metadata": {
        "id": "22aHeOlLveiV"
      }
    },
    {
      "cell_type": "markdown",
      "source": [
        "From the above plot we can't understand if there is any relationship or not between the independent variables."
      ],
      "metadata": {
        "id": "uPQ8RGwHveiV"
      }
    },
    {
      "cell_type": "markdown",
      "source": [
        "## **5. Solution to Business Objective**"
      ],
      "metadata": {
        "id": "JcMwzZxoAimU"
      }
    },
    {
      "cell_type": "markdown",
      "source": [
        "#### What do you suggest the client to achieve Business Objective ?\n",
        "Explain Briefly."
      ],
      "metadata": {
        "id": "8G2x9gOozGDZ"
      }
    },
    {
      "cell_type": "markdown",
      "source": [
        "Answer Here."
      ],
      "metadata": {
        "id": "pASKb0qOza21"
      }
    },
    {
      "cell_type": "markdown",
      "source": [
        "# **Conclusion**"
      ],
      "metadata": {
        "id": "gCX9965dhzqZ"
      }
    },
    {
      "cell_type": "markdown",
      "source": [
        "Write the conclusion here."
      ],
      "metadata": {
        "id": "Fjb1IsQkh3yE"
      }
    },
    {
      "cell_type": "markdown",
      "source": [
        "### ***Hurrah! You have successfully completed your EDA Capstone Project !!!***"
      ],
      "metadata": {
        "id": "gIfDvo9L0UH2"
      }
    }
  ]
}